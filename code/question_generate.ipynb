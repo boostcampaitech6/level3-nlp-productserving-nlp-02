{
 "cells": [
  {
   "cell_type": "code",
   "execution_count": 1,
   "metadata": {},
   "outputs": [],
   "source": [
    "from openai import OpenAI\n",
    "api_key = '### YOUR API KEY ###'\n",
    "\n",
    "client = OpenAI(api_key = api_key)"
   ]
  },
  {
   "cell_type": "code",
   "execution_count": 36,
   "metadata": {},
   "outputs": [],
   "source": [
    "response = client.chat.completions.create(\n",
    "    model = \"gpt-4-turbo-preview\",\n",
    "    messages = [\n",
    "        {\"role\": \"system\", \"content\": \"Generate three questions about the topic user have entered like OPIc\"},\n",
    "        {\"role\": \"assistant\", \"content\": \"[You indicated in the survey that you prefer to stay home during vacations. How do you spend your vacations at home? What do you usually do, and why do you like to stay at home? Who usually visits you when your vacation? Use as many details as possible to describe it.], [Tell me about a memorable vacation when you stay at home during your vacation. What did you do at home? Who were you with? Why was it so unforgettable? Give me many details.], [Most people want to travel during their vacations. Can you tell me why you prefer to stay at home during your vacation? What makes a vacation at home enjoyable?]\"},\n",
    "        {\"role\": \"user\", \"content\": \"Staycation\"}\n",
    "    ]\n",
    ")\n"
   ]
  },
  {
   "cell_type": "code",
   "execution_count": 37,
   "metadata": {},
   "outputs": [
    {
     "name": "stdout",
     "output_type": "stream",
     "text": [
      "1. Can you explain what a \"staycation\" means to you and why you might prefer it over traveling to a different location for a vacation? Give examples of activities that make a staycation enjoyable for you.\n",
      "\n",
      "2. Describe your ideal staycation. What would you do, and how would you make it feel different from your regular routine at home? Are there any special preparations or local attractions you would explore?\n",
      "\n",
      "3. Many people find staycations a unique way to relax and recharge. Can you share a particularly memorable staycation experience? What made it special, and what activities or lack of activities contributed to its success?\n"
     ]
    }
   ],
   "source": [
    "import json\n",
    "\n",
    "res_json = json.loads(response.json())\n",
    "print(res_json[\"choices\"][0][\"message\"][\"content\"])"
   ]
  },
  {
   "cell_type": "code",
   "execution_count": 38,
   "metadata": {},
   "outputs": [],
   "source": [
    "response = client.chat.completions.create(\n",
    "    model = \"gpt-4-turbo-preview\",\n",
    "    messages = [\n",
    "        {\"role\": \"system\", \"content\": \"Generate three questions about the topic user have entered like OPIc\"},\n",
    "        {\"role\": \"assistant\", \"content\": \"[You indicated in the survey that you enjoy going to a park. Which park do you like to go to? Where is it? What does it look like? Who do you usually go with? Please describe your favorite park in detail.], [Tell me one memorable or unforgettable experience you had at a park. Who were you with, and what did you do there? Was there a special event, or did something unexpected happen? Please explain what happened in detail.], [How often do you go to a park? What things do you usually do at a park? Describe your typical day at a park from the moment you arrive at the park to the time you leave the park.]\"},\n",
    "        {\"role\": \"user\", \"content\": \"Going park\"}\n",
    "    ]\n",
    ")"
   ]
  },
  {
   "cell_type": "code",
   "execution_count": 39,
   "metadata": {},
   "outputs": [
    {
     "name": "stdout",
     "output_type": "stream",
     "text": [
      "1. What activities do you engage in when you visit a park? Can you describe a few of your favorite things to do and any specific reasons why you enjoy these activities? \n",
      "\n",
      "2. Have you ever visited a park that left a lasting impression on you? What made this park stand out, and what were some of the unique features or experiences it offered that you haven't found elsewhere?\n",
      "\n",
      "3. Can you share a story or experience from a time when something unexpected happened to you at a park? How did it affect your day, and what did you learn from this experience?\n"
     ]
    }
   ],
   "source": [
    "import json\n",
    "\n",
    "res_json = json.loads(response.json())\n",
    "print(res_json[\"choices\"][0][\"message\"][\"content\"])"
   ]
  },
  {
   "cell_type": "code",
   "execution_count": 40,
   "metadata": {},
   "outputs": [],
   "source": [
    "response = client.chat.completions.create(\n",
    "    model = \"gpt-4-turbo-preview\",\n",
    "    messages = [\n",
    "        {\"role\": \"system\", \"content\": \"Generate three questions about the topic user have entered like OPIc\"},\n",
    "        {\"role\": \"assistant\", \"content\": \"[Shopping is a popular activity. Tell me where you usually go shopping. When do you go there? Who do you go with? What do you typically buy? Describe as many details as possible.], [You indicated in the survey that you enjoy shopping. Tell me about stores or shopping centers in your country. What are they like? Where are they located? What items do they sell? Is there a particular store that you regularly visit for shopping?], [Describe one memorable or unforgettable experience you had when you were shopping. What happened? What did you buy? What made this experience so unforgettable?]\"},\n",
    "        {\"role\": \"user\", \"content\": \"Going shopping\"}\n",
    "    ]\n",
    ")"
   ]
  },
  {
   "cell_type": "code",
   "execution_count": 42,
   "metadata": {},
   "outputs": [
    {
     "name": "stdout",
     "output_type": "stream",
     "text": [
      "1. **Shopping Preferences:** Can you describe your favorite shopping destination, be it a mall, a market, or an online platform? What specifically attracts you to this destination, and what kind of items are you usually looking for when you go shopping there?\n",
      "\n",
      "2. **Shopping Habits:** How often do you go shopping, and do you typically go alone or with someone else? When you go shopping, do you have a list or plan of what you intend to buy, or do you make decisions spontaneously based on what you see and like at the moment?\n",
      "\n",
      "3. **Memorable Shopping Experience:** Can you share a particularly memorable shopping experience, whether it was because of an excellent deal, a special occasion, or an unexpected find? What made this shopping trip stand out for you, and what did you purchase during this visit?\n"
     ]
    }
   ],
   "source": [
    "import json\n",
    "\n",
    "res_json = json.loads(response.json())\n",
    "print(res_json[\"choices\"][0][\"message\"][\"content\"])"
   ]
  },
  {
   "cell_type": "code",
   "execution_count": 43,
   "metadata": {},
   "outputs": [],
   "source": [
    "response = client.chat.completions.create(\n",
    "    model = \"gpt-4-turbo-preview\",\n",
    "    messages = [\n",
    "        {\"role\": \"system\", \"content\": \"Generate three questions about the topic user have entered like OPIc\"},\n",
    "        {\"role\": \"user\", \"content\": \"Going shopping\"}\n",
    "    ]\n",
    ")"
   ]
  },
  {
   "cell_type": "code",
   "execution_count": 44,
   "metadata": {},
   "outputs": [
    {
     "name": "stdout",
     "output_type": "stream",
     "text": [
      "1. Describe your last shopping experience: where did you go, what did you buy, and how did you decide to make those purchases?\n",
      "2. In your opinion, what are the key factors that make a shopping trip enjoyable or successful? Consider aspects like location, variety of products, customer service, and price.\n",
      "3. How do you think shopping habits have changed over the last decade, particularly with the rise of online shopping compared to traditional in-store shopping?\n"
     ]
    }
   ],
   "source": [
    "import json\n",
    "\n",
    "res_json = json.loads(response.json())\n",
    "print(res_json[\"choices\"][0][\"message\"][\"content\"])"
   ]
  },
  {
   "cell_type": "code",
   "execution_count": null,
   "metadata": {},
   "outputs": [],
   "source": []
  },
  {
   "cell_type": "code",
   "execution_count": null,
   "metadata": {},
   "outputs": [],
   "source": []
  },
  {
   "cell_type": "code",
   "execution_count": null,
   "metadata": {},
   "outputs": [],
   "source": []
  },
  {
   "cell_type": "code",
   "execution_count": null,
   "metadata": {},
   "outputs": [],
   "source": []
  },
  {
   "cell_type": "code",
   "execution_count": null,
   "metadata": {},
   "outputs": [],
   "source": []
  }
 ],
 "metadata": {
  "kernelspec": {
   "display_name": "jiin-I4jv96c0-py3.8",
   "language": "python",
   "name": "python3"
  },
  "language_info": {
   "codemirror_mode": {
    "name": "ipython",
    "version": 3
   },
   "file_extension": ".py",
   "mimetype": "text/x-python",
   "name": "python",
   "nbconvert_exporter": "python",
   "pygments_lexer": "ipython3",
   "version": "3.8.10"
  }
 },
 "nbformat": 4,
 "nbformat_minor": 2
}
